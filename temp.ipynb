{
 "cells": [
  {
   "cell_type": "code",
   "execution_count": 17,
   "id": "4344174f",
   "metadata": {},
   "outputs": [
    {
     "ename": "NameError",
     "evalue": "name 'ORANGE_MAX' is not defined",
     "output_type": "error",
     "traceback": [
      "\u001b[31m---------------------------------------------------------------------------\u001b[39m",
      "\u001b[31mNameError\u001b[39m                                 Traceback (most recent call last)",
      "\u001b[36mCell\u001b[39m\u001b[36m \u001b[39m\u001b[32mIn[17]\u001b[39m\u001b[32m, line 3\u001b[39m\n\u001b[32m      1\u001b[39m \u001b[38;5;28;01mfrom\u001b[39;00m\u001b[38;5;250m \u001b[39m\u001b[34;01mconfig\u001b[39;00m\u001b[38;5;250m \u001b[39m\u001b[38;5;28;01mimport\u001b[39;00m *\n\u001b[32m      2\u001b[39m \u001b[38;5;28;01mfrom\u001b[39;00m\u001b[38;5;250m \u001b[39m\u001b[34;01mapp\u001b[39;00m\u001b[38;5;250m \u001b[39m\u001b[38;5;28;01mimport\u001b[39;00m *\n\u001b[32m----> \u001b[39m\u001b[32m3\u001b[39m \u001b[38;5;28;01mfrom\u001b[39;00m\u001b[38;5;250m \u001b[39m\u001b[34;01mfunctions\u001b[39;00m\u001b[38;5;250m \u001b[39m\u001b[38;5;28;01mimport\u001b[39;00m *\n\u001b[32m      4\u001b[39m \u001b[38;5;28;01mimport\u001b[39;00m\u001b[38;5;250m \u001b[39m\u001b[34;01mpandas\u001b[39;00m\u001b[38;5;250m \u001b[39m\u001b[38;5;28;01mas\u001b[39;00m\u001b[38;5;250m \u001b[39m\u001b[34;01mpd\u001b[39;00m\n\u001b[32m      5\u001b[39m \u001b[38;5;28;01mimport\u001b[39;00m\u001b[38;5;250m \u001b[39m\u001b[34;01mrequests\u001b[39;00m\n",
      "\u001b[36mFile \u001b[39m\u001b[32mc:\\Users\\Selmah\\Documents\\perso\\bixi-live-tracker\\Bixi-live-tracker\\functions.py:41\u001b[39m\n\u001b[32m     38\u001b[39m     df_merged = pd.merge(df_info, df_status, on=\u001b[33m\"\u001b[39m\u001b[33mstation_id\u001b[39m\u001b[33m\"\u001b[39m, how=\u001b[33m\"\u001b[39m\u001b[33minner\u001b[39m\u001b[33m\"\u001b[39m)\n\u001b[32m     39\u001b[39m     \u001b[38;5;28;01mreturn\u001b[39;00m df_merged\n\u001b[32m---> \u001b[39m\u001b[32m41\u001b[39m \u001b[38;5;28;01mdef\u001b[39;00m\u001b[38;5;250m \u001b[39m\u001b[34mchoose_station_color\u001b[39m(bikes_available: \u001b[38;5;28mint\u001b[39m, orange_max: \u001b[38;5;28mint\u001b[39m = \u001b[43mORANGE_MAX\u001b[49m) -> \u001b[38;5;28mstr\u001b[39m:\n\u001b[32m     42\u001b[39m     \u001b[38;5;28;01mif\u001b[39;00m bikes_available== \u001b[32m0\u001b[39m:\n\u001b[32m     43\u001b[39m         \u001b[38;5;28;01mreturn\u001b[39;00m \u001b[33m\"\u001b[39m\u001b[33mred\u001b[39m\u001b[33m\"\u001b[39m\n",
      "\u001b[31mNameError\u001b[39m: name 'ORANGE_MAX' is not defined"
     ]
    }
   ],
   "source": [
    "from config import *\n",
    "from app import *\n",
    "from functions import *\n",
    "import pandas as pd\n",
    "import requests\n",
    "import time"
   ]
  },
  {
   "cell_type": "code",
   "execution_count": null,
   "id": "012b2ed0",
   "metadata": {},
   "outputs": [
    {
     "name": "stdout",
     "output_type": "stream",
     "text": [
      "Station Information:\n",
      "     station_id                           external_id  \\\n",
      "0             1  0b0fda98-08f3-11e7-a1cb-3863bb33a4e4   \n",
      "1             2  0b0fdf05-08f3-11e7-a1cb-3863bb33a4e4   \n",
      "2             3  0b0fe114-08f3-11e7-a1cb-3863bb33a4e4   \n",
      "3             4  0b0fe2b5-08f3-11e7-a1cb-3863bb33a4e4   \n",
      "4             5  0b0fe458-08f3-11e7-a1cb-3863bb33a4e4   \n",
      "...         ...                                   ...   \n",
      "1026       1146  7356bea9-fe41-4232-9eb0-9dcbceac1c61   \n",
      "1027       1147  5a517d4d-9c14-4807-96ed-668274b61ee6   \n",
      "1028       1148  fa2ac37b-1c80-4992-811b-dc7464743f5e   \n",
      "1029       1149  d86bd3bb-42ba-4591-8734-19fa8e8520d8   \n",
      "1030       1150  6d7daed0-13a4-4ccd-af9a-f3cd22622420   \n",
      "\n",
      "                                  name short_name        lat        lon  \\\n",
      "0            Drummond / de Maisonneuve       6001  45.499655 -73.576335   \n",
      "1               Ste-Catherine / Dézéry       6002  45.539385 -73.541000   \n",
      "2                      Clark / Ontario       6003  45.510588 -73.566846   \n",
      "3           du Champ-de-Mars / Gosford       6004  45.509655 -73.554009   \n",
      "4                   Brittany / Ainsley       6005  45.525890 -73.650034   \n",
      "...                                ...        ...        ...        ...   \n",
      "1026           de Maisonneuve / Mackay       8278  45.496431 -73.578845   \n",
      "1027      Gaétan-Laberge / de l'Église       8302  45.463245 -73.562469   \n",
      "1028            Rachel / Émile-Duployé       8303  45.529982 -73.569782   \n",
      "1029  Parc du Mont-Royal (Remembrance)       8304  45.499163 -73.600594   \n",
      "1030      de l'Inspecteur / Notre-Dame       8305  45.497117 -73.562328   \n",
      "\n",
      "         rental_methods  capacity  electric_bike_surcharge_waiver  \\\n",
      "0     [KEY, CREDITCARD]        27                           False   \n",
      "1     [KEY, CREDITCARD]        27                           False   \n",
      "2     [KEY, CREDITCARD]        19                           False   \n",
      "3     [KEY, CREDITCARD]        23                           False   \n",
      "4     [KEY, CREDITCARD]        23                           False   \n",
      "...                 ...       ...                             ...   \n",
      "1026  [KEY, CREDITCARD]        19                           False   \n",
      "1027  [KEY, CREDITCARD]        19                           False   \n",
      "1028  [KEY, CREDITCARD]        23                           False   \n",
      "1029  [KEY, CREDITCARD]        25                           False   \n",
      "1030  [KEY, CREDITCARD]        18                           False   \n",
      "\n",
      "      is_charging  eightd_has_key_dispenser  has_kiosk eightd_station_services  \n",
      "0           False                     False       True                     NaN  \n",
      "1           False                     False       True                     NaN  \n",
      "2           False                     False       True                     NaN  \n",
      "3           False                     False       True                     NaN  \n",
      "4           False                     False       True                     NaN  \n",
      "...           ...                       ...        ...                     ...  \n",
      "1026        False                     False       True                     NaN  \n",
      "1027        False                     False       True                     NaN  \n",
      "1028        False                     False       True                     NaN  \n",
      "1029        False                     False       True                     NaN  \n",
      "1030        False                     False       True                     NaN  \n",
      "\n",
      "[1031 rows x 13 columns]\n"
     ]
    }
   ],
   "source": [
    "feeds = getFeeds()\n",
    "station_info_url = feeds[\"station_information\"]\n",
    "station_info = fetch_json(station_info_url) \n",
    "df_station_info = pd.DataFrame(station_info[\"data\"][\"stations\"])\n",
    "print(\"Station Information:\")\n",
    "print(df_station_info)\n",
    "   "
   ]
  },
  {
   "cell_type": "code",
   "execution_count": 4,
   "id": "622e504e",
   "metadata": {},
   "outputs": [
    {
     "name": "stdout",
     "output_type": "stream",
     "text": [
      "Station Status:\n",
      "     station_id  num_bikes_available  num_ebikes_available  \\\n",
      "0             1                    8                     0   \n",
      "1             2                   23                     0   \n",
      "2             3                   19                     1   \n",
      "3             4                    4                     0   \n",
      "4             5                    7                     3   \n",
      "...         ...                  ...                   ...   \n",
      "1026       1146                   12                     1   \n",
      "1027       1147                    4                     1   \n",
      "1028       1148                    9                     0   \n",
      "1029       1149                   10                    10   \n",
      "1030       1150                    2                     0   \n",
      "\n",
      "                                vehicle_types_available  num_bikes_disabled  \\\n",
      "0     [{'vehicle_type_id': '11', 'count': 0}, {'vehi...                   0   \n",
      "1     [{'vehicle_type_id': '11', 'count': 0}, {'vehi...                   0   \n",
      "2     [{'vehicle_type_id': '11', 'count': 1}, {'vehi...                   0   \n",
      "3     [{'vehicle_type_id': '11', 'count': 0}, {'vehi...                   1   \n",
      "4     [{'vehicle_type_id': '11', 'count': 3}, {'vehi...                   0   \n",
      "...                                                 ...                 ...   \n",
      "1026  [{'vehicle_type_id': '11', 'count': 1}, {'vehi...                   3   \n",
      "1027  [{'vehicle_type_id': '11', 'count': 1}, {'vehi...                   1   \n",
      "1028  [{'vehicle_type_id': '11', 'count': 0}, {'vehi...                   0   \n",
      "1029  [{'vehicle_type_id': '11', 'count': 10}, {'veh...                   0   \n",
      "1030  [{'vehicle_type_id': '11', 'count': 0}, {'vehi...                   0   \n",
      "\n",
      "      num_docks_available  num_docks_disabled  is_installed  is_renting  \\\n",
      "0                      19                   0             1           1   \n",
      "1                       4                   0             1           1   \n",
      "2                       0                   0             1           1   \n",
      "3                      18                   0             1           1   \n",
      "4                      16                   0             1           1   \n",
      "...                   ...                 ...           ...         ...   \n",
      "1026                    4                   0             1           1   \n",
      "1027                   14                   0             1           1   \n",
      "1028                   14                   0             1           1   \n",
      "1029                   15                   0             1           1   \n",
      "1030                   16                   0             1           1   \n",
      "\n",
      "      is_returning  last_reported  eightd_has_available_keys  is_charging  \\\n",
      "0                1     1761443956                      False        False   \n",
      "1                1     1761443588                      False        False   \n",
      "2                1     1761444600                      False        False   \n",
      "3                1     1761444243                      False        False   \n",
      "4                1     1761442163                      False        False   \n",
      "...            ...            ...                        ...          ...   \n",
      "1026             1     1761444423                      False        False   \n",
      "1027             1     1761443621                      False        False   \n",
      "1028             1     1761443438                      False        False   \n",
      "1029             1     1761442906                      False        False   \n",
      "1030             1     1761442930                      False        False   \n",
      "\n",
      "     eightd_active_station_services  \n",
      "0                               NaN  \n",
      "1                               NaN  \n",
      "2                               NaN  \n",
      "3                               NaN  \n",
      "4                               NaN  \n",
      "...                             ...  \n",
      "1026                            NaN  \n",
      "1027                            NaN  \n",
      "1028                            NaN  \n",
      "1029                            NaN  \n",
      "1030                            NaN  \n",
      "\n",
      "[1031 rows x 14 columns]\n"
     ]
    }
   ],
   "source": [
    "station_status_url = feeds[\"station_status\"]\n",
    "station_status= fetch_json(station_status_url)\n",
    "df_station_status = pd.DataFrame(station_status[\"data\"][\"stations\"])\n",
    "print(\"Station Status:\")\n",
    "print(df_station_status)"
   ]
  },
  {
   "cell_type": "code",
   "execution_count": null,
   "id": "81448838",
   "metadata": {},
   "outputs": [
    {
     "ename": "NameError",
     "evalue": "name 'load_data' is not defined",
     "output_type": "error",
     "traceback": [
      "\u001b[31m---------------------------------------------------------------------------\u001b[39m",
      "\u001b[31mNameError\u001b[39m                                 Traceback (most recent call last)",
      "\u001b[36mCell\u001b[39m\u001b[36m \u001b[39m\u001b[32mIn[19]\u001b[39m\u001b[32m, line 1\u001b[39m\n\u001b[32m----> \u001b[39m\u001b[32m1\u001b[39m df = \u001b[43mload_data\u001b[49m\n\u001b[32m      2\u001b[39m \u001b[38;5;28mprint\u001b[39m(df.head())\n",
      "\u001b[31mNameError\u001b[39m: name 'load_data' is not defined"
     ]
    }
   ],
   "source": [
    "df = load_data()\n",
    "print(df.head())"
   ]
  },
  {
   "cell_type": "code",
   "execution_count": null,
   "id": "71555b6f",
   "metadata": {},
   "outputs": [],
   "source": []
  }
 ],
 "metadata": {
  "kernelspec": {
   "display_name": "Python 3",
   "language": "python",
   "name": "python3"
  },
  "language_info": {
   "codemirror_mode": {
    "name": "ipython",
    "version": 3
   },
   "file_extension": ".py",
   "mimetype": "text/x-python",
   "name": "python",
   "nbconvert_exporter": "python",
   "pygments_lexer": "ipython3",
   "version": "3.12.10"
  }
 },
 "nbformat": 4,
 "nbformat_minor": 5
}
