{
 "cells": [
  {
   "cell_type": "code",
   "execution_count": null,
   "id": "4344174f",
   "metadata": {},
   "outputs": [],
   "source": [
    "from config import *\n",
    "from app import *\n",
    "import pandas as pd\n",
    "import requests\n",
    "import time"
   ]
  },
  {
   "cell_type": "code",
   "execution_count": 3,
   "id": "012b2ed0",
   "metadata": {},
   "outputs": [
    {
     "name": "stdout",
     "output_type": "stream",
     "text": [
      "Station Information:\n",
      "     station_id                           external_id  \\\n",
      "0             1  0b0fda98-08f3-11e7-a1cb-3863bb33a4e4   \n",
      "1             2  0b0fdf05-08f3-11e7-a1cb-3863bb33a4e4   \n",
      "2             3  0b0fe114-08f3-11e7-a1cb-3863bb33a4e4   \n",
      "3             4  0b0fe2b5-08f3-11e7-a1cb-3863bb33a4e4   \n",
      "4             5  0b0fe458-08f3-11e7-a1cb-3863bb33a4e4   \n",
      "...         ...                                   ...   \n",
      "1026       1146  7356bea9-fe41-4232-9eb0-9dcbceac1c61   \n",
      "1027       1147  5a517d4d-9c14-4807-96ed-668274b61ee6   \n",
      "1028       1148  fa2ac37b-1c80-4992-811b-dc7464743f5e   \n",
      "1029       1149  d86bd3bb-42ba-4591-8734-19fa8e8520d8   \n",
      "1030       1150  6d7daed0-13a4-4ccd-af9a-f3cd22622420   \n",
      "\n",
      "                                  name short_name        lat        lon  \\\n",
      "0            Drummond / de Maisonneuve       6001  45.499655 -73.576335   \n",
      "1               Ste-Catherine / Dézéry       6002  45.539385 -73.541000   \n",
      "2                      Clark / Ontario       6003  45.510588 -73.566846   \n",
      "3           du Champ-de-Mars / Gosford       6004  45.509655 -73.554009   \n",
      "4                   Brittany / Ainsley       6005  45.525890 -73.650034   \n",
      "...                                ...        ...        ...        ...   \n",
      "1026           de Maisonneuve / Mackay       8278  45.496431 -73.578845   \n",
      "1027      Gaétan-Laberge / de l'Église       8302  45.463245 -73.562469   \n",
      "1028            Rachel / Émile-Duployé       8303  45.529982 -73.569782   \n",
      "1029  Parc du Mont-Royal (Remembrance)       8304  45.499163 -73.600594   \n",
      "1030      de l'Inspecteur / Notre-Dame       8305  45.497117 -73.562328   \n",
      "\n",
      "         rental_methods  capacity  electric_bike_surcharge_waiver  \\\n",
      "0     [KEY, CREDITCARD]        27                           False   \n",
      "1     [KEY, CREDITCARD]        27                           False   \n",
      "2     [KEY, CREDITCARD]        19                           False   \n",
      "3     [KEY, CREDITCARD]        23                           False   \n",
      "4     [KEY, CREDITCARD]        23                           False   \n",
      "...                 ...       ...                             ...   \n",
      "1026  [KEY, CREDITCARD]        19                           False   \n",
      "1027  [KEY, CREDITCARD]        19                           False   \n",
      "1028  [KEY, CREDITCARD]        23                           False   \n",
      "1029  [KEY, CREDITCARD]        25                           False   \n",
      "1030  [KEY, CREDITCARD]        18                           False   \n",
      "\n",
      "      is_charging  eightd_has_key_dispenser  has_kiosk eightd_station_services  \n",
      "0           False                     False       True                     NaN  \n",
      "1           False                     False       True                     NaN  \n",
      "2           False                     False       True                     NaN  \n",
      "3           False                     False       True                     NaN  \n",
      "4           False                     False       True                     NaN  \n",
      "...           ...                       ...        ...                     ...  \n",
      "1026        False                     False       True                     NaN  \n",
      "1027        False                     False       True                     NaN  \n",
      "1028        False                     False       True                     NaN  \n",
      "1029        False                     False       True                     NaN  \n",
      "1030        False                     False       True                     NaN  \n",
      "\n",
      "[1031 rows x 13 columns]\n"
     ]
    }
   ],
   "source": [
    "feeds = getFeeds()\n",
    "info_url = feeds[\"station_information\"]\n",
    "info = fetch_json(info_url) \n",
    "df_info = pd.DataFrame(info[\"data\"][\"stations\"])\n",
    "print(\"Station Information:\")\n",
    "print(df_info)\n",
    "   "
   ]
  }
 ],
 "metadata": {
  "kernelspec": {
   "display_name": "Python 3",
   "language": "python",
   "name": "python3"
  },
  "language_info": {
   "codemirror_mode": {
    "name": "ipython",
    "version": 3
   },
   "file_extension": ".py",
   "mimetype": "text/x-python",
   "name": "python",
   "nbconvert_exporter": "python",
   "pygments_lexer": "ipython3",
   "version": "3.12.10"
  }
 },
 "nbformat": 4,
 "nbformat_minor": 5
}
